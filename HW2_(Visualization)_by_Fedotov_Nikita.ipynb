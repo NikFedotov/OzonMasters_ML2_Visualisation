{
 "cells": [
  {
   "cell_type": "markdown",
   "metadata": {},
   "source": [
    "# Демография РФ (1990 - 2017гг)"
   ]
  },
  {
   "cell_type": "markdown",
   "metadata": {},
   "source": [
    "В данной работе реализована визуализация демографических изменнений по субъектам РФ за период с 1990 по 2017гг.\n",
    "Для каждого субъекта (региона, области и т.п.) можно посмотреть количество родившихся, умерших и прирост насления\n",
    "на 1000 жителей в динамике по годам с 1990 по 2017.\n",
    "\n",
    "Источник данных: https://www.kaggle.com/dwdkills/russian-demography\n",
    "\n",
    "Другие полезные ссылки, которые я хочу сохранить здесь для себя:\n",
    "\n",
    "библиотека виджетов https://ipywidgets.readthedocs.io/en/stable/examples/Widget%20List.html#Dropdown\n",
    "\n",
    "построение разных графиков https://pyprog.pro/mpl/mpl_bar.html\n"
   ]
  },
  {
   "cell_type": "markdown",
   "metadata": {},
   "source": [
    "#### 1. Загрузка данных."
   ]
  },
  {
   "cell_type": "code",
   "execution_count": 1,
   "metadata": {},
   "outputs": [
    {
     "name": "stdout",
     "output_type": "stream",
     "text": [
      "<class 'pandas.core.frame.DataFrame'>\n",
      "RangeIndex: 2380 entries, 0 to 2379\n",
      "Data columns (total 7 columns):\n",
      "year            2380 non-null int64\n",
      "region          2380 non-null object\n",
      "npg             2317 non-null float64\n",
      "birth_rate      2317 non-null float64\n",
      "death_rate      2315 non-null float64\n",
      "gdw             2330 non-null float64\n",
      "urbanization    2330 non-null float64\n",
      "dtypes: float64(5), int64(1), object(1)\n",
      "memory usage: 130.2+ KB\n"
     ]
    }
   ],
   "source": [
    "import numpy as np\n",
    "import matplotlib.pyplot as plt\n",
    "import pandas as pd\n",
    "\n",
    "df = pd.read_csv(\"russian_demography.csv\")\n",
    "df.info()"
   ]
  },
  {
   "cell_type": "markdown",
   "metadata": {},
   "source": [
    "#### 2. Поиск пропущенных значений."
   ]
  },
  {
   "cell_type": "code",
   "execution_count": 2,
   "metadata": {},
   "outputs": [],
   "source": [
    "def None_mask_clmn(df, columns):\n",
    "    if len(columns) == 0:\n",
    "        return \"Error: no column found.\"\n",
    "    mask = df[columns[0]].isnull()\n",
    "    for col in columns[1:]:\n",
    "        mask = mask | df[col].isnull()\n",
    "    return mask"
   ]
  },
  {
   "cell_type": "code",
   "execution_count": 3,
   "metadata": {},
   "outputs": [
    {
     "data": {
      "text/plain": [
       "array(['Republic of Ingushetia', 'Republic of Crimea', 'Sevastopol',\n",
       "       'Chechen Republic'], dtype=object)"
      ]
     },
     "execution_count": 3,
     "metadata": {},
     "output_type": "execute_result"
    }
   ],
   "source": [
    "#регионы по которым неполная информация\n",
    "problem_df = df.loc[None_mask_clmn(df, df.columns)]\n",
    "problem_df['region'].unique()"
   ]
  },
  {
   "cell_type": "code",
   "execution_count": 4,
   "metadata": {},
   "outputs": [],
   "source": [
    "#df.loc[df['region'] == 'Republic of Crimea']\n",
    "#df.loc[df['region'] == 'Republic of Ingushetia']\n",
    "#df.loc[df['region'] == 'Sevastopol']\n",
    "#df.loc[df['region'] == 'Chechen Republic']"
   ]
  },
  {
   "cell_type": "markdown",
   "metadata": {},
   "source": [
    "#### (Попытка разобраться с визуализацией карты с регионами)"
   ]
  },
  {
   "cell_type": "markdown",
   "metadata": {},
   "source": [
    "Здесь я пробовал понять как можно делать heatmap'ы на реальных географических картах, но у меня не получилось даже понять как загрузить карту регионов РФ. В частности, не получилось установить geopandas.)"
   ]
  },
  {
   "cell_type": "code",
   "execution_count": 5,
   "metadata": {},
   "outputs": [
    {
     "ename": "ModuleNotFoundError",
     "evalue": "No module named 'geopandas'",
     "output_type": "error",
     "traceback": [
      "\u001b[1;31m---------------------------------------------------------------------------\u001b[0m",
      "\u001b[1;31mModuleNotFoundError\u001b[0m                       Traceback (most recent call last)",
      "\u001b[1;32m<ipython-input-5-d4fc7eb24bd4>\u001b[0m in \u001b[0;36m<module>\u001b[1;34m\u001b[0m\n\u001b[1;32m----> 1\u001b[1;33m \u001b[1;32mimport\u001b[0m \u001b[0mgeopandas\u001b[0m \u001b[1;32mas\u001b[0m \u001b[0mgpd\u001b[0m\u001b[1;33m\u001b[0m\u001b[1;33m\u001b[0m\u001b[0m\n\u001b[0m\u001b[0;32m      2\u001b[0m \u001b[0mget_ipython\u001b[0m\u001b[1;33m(\u001b[0m\u001b[1;33m)\u001b[0m\u001b[1;33m.\u001b[0m\u001b[0mrun_line_magic\u001b[0m\u001b[1;33m(\u001b[0m\u001b[1;34m'matplotlib'\u001b[0m\u001b[1;33m,\u001b[0m \u001b[1;34m'inline'\u001b[0m\u001b[1;33m)\u001b[0m\u001b[1;33m\u001b[0m\u001b[1;33m\u001b[0m\u001b[0m\n\u001b[0;32m      3\u001b[0m \u001b[0mreg_gdf\u001b[0m \u001b[1;33m=\u001b[0m \u001b[0mgpd\u001b[0m\u001b[1;33m.\u001b[0m\u001b[0mread_file\u001b[0m\u001b[1;33m(\u001b[0m\u001b[1;34m'Regions.shp'\u001b[0m\u001b[1;33m)\u001b[0m\u001b[1;33m\u001b[0m\u001b[1;33m\u001b[0m\u001b[0m\n\u001b[0;32m      4\u001b[0m \u001b[0mreg_gdf\u001b[0m\u001b[1;33m.\u001b[0m\u001b[0mhead\u001b[0m\u001b[1;33m(\u001b[0m\u001b[1;33m)\u001b[0m\u001b[1;33m\u001b[0m\u001b[1;33m\u001b[0m\u001b[0m\n",
      "\u001b[1;31mModuleNotFoundError\u001b[0m: No module named 'geopandas'"
     ]
    }
   ],
   "source": [
    "import geopandas as gpd\n",
    "%matplotlib inline\n",
    "reg_gdf = gpd.read_file('Regions.shp')\n",
    "reg_gdf.head()"
   ]
  },
  {
   "cell_type": "markdown",
   "metadata": {},
   "source": [
    "#### 3. Перевод названий субъектов в отдельном .xlsx файле."
   ]
  },
  {
   "cell_type": "code",
   "execution_count": 6,
   "metadata": {},
   "outputs": [],
   "source": [
    "reg_df = pd.DataFrame(np.sort(df['region'].unique()))\n",
    "\n",
    "## save to xlsx file\n",
    "\n",
    "filepath = 'reg.xlsx'\n",
    "\n",
    "reg_df.to_excel(filepath, index=False)\n",
    "reg_df_upd = pd.read_excel('reg_upd.xlsx', index=False)\n",
    "reg_df_upd.sort_values(by = ['region_rus'], inplace = True)\n",
    "#reg_df_upd['region_eng']\n",
    "#reg_df_upd[\"region_rus_eng\"] = \n",
    "region_dict = np.array(reg_df_upd.apply(lambda x: (x['region_rus'], x['region_eng']), axis=1))\n",
    "#reg_df_upd.head()"
   ]
  },
  {
   "cell_type": "markdown",
   "metadata": {},
   "source": [
    "#### 4. Функция для построения графика по одному региону."
   ]
  },
  {
   "cell_type": "code",
   "execution_count": 7,
   "metadata": {},
   "outputs": [],
   "source": [
    "# Здесь была функция побольше, но потом мне она стала не нужна и от неё остался такой вот обрубок)\n",
    "def select_region(reg):\n",
    "    return df.loc[df['region'] == reg]"
   ]
  },
  {
   "cell_type": "code",
   "execution_count": 24,
   "metadata": {},
   "outputs": [],
   "source": [
    "# функция для посторения гистограммы по выбранному региону \n",
    "def plot_gist(reg):\n",
    "    msk_df = select_region('Moscow')\n",
    "    reg_df = select_region(reg)\n",
    "    \n",
    "    width = 0.75 # ширина столбцов гистограммы\n",
    "    year = np.array(msk_df['year'])\n",
    "    pop_growth = np.array(reg_df['npg'])\n",
    "    birth_rate = np.array(reg_df['birth_rate'])\n",
    "    death_rate = np.array(reg_df['death_rate'])*(-1)\n",
    "\n",
    "    fig, ax = plt.subplots()\n",
    "    ax.set_xlabel('годы')\n",
    "    ax.set_ylabel('человек на 1000 жителей')\n",
    "    ax.plot(year, pop_growth, label=\"прирост\", color = 'blue')\n",
    "    ax.bar(year, death_rate, width, label=\"смертность\", color='#d95f02')\n",
    "    ax.bar(year, birth_rate, width, label=\"рождаемость\", color = '#1b9e77')\n",
    "    ax.legend() # вывести легенду\n",
    "    fig.suptitle(reg + ' demography') # название Figure\n",
    "    fig.set_figwidth(12)    #  ширина Figure\n",
    "    fig.set_figheight(8)    #  высота Figure\n",
    "    plt.show()"
   ]
  },
  {
   "cell_type": "markdown",
   "metadata": {},
   "source": [
    "#### 5. Виджет для выпадающего списка и результирующая картинка."
   ]
  },
  {
   "cell_type": "code",
   "execution_count": 25,
   "metadata": {},
   "outputs": [
    {
     "data": {
      "application/vnd.jupyter.widget-view+json": {
       "model_id": "e881a6fb55b745d3b6b4adc991e17e0e",
       "version_major": 2,
       "version_minor": 0
      },
      "text/plain": [
       "interactive(children=(Dropdown(description='Субъект РФ:', index=84, options=(('Алтайский край', 'Altai Krai'),…"
      ]
     },
     "metadata": {},
     "output_type": "display_data"
    },
    {
     "data": {
      "text/plain": [
       "<function __main__.plot_gist(reg)>"
      ]
     },
     "execution_count": 25,
     "metadata": {},
     "output_type": "execute_result"
    }
   ],
   "source": [
    "import ipywidgets as wdg\n",
    "\n",
    "def printout(reg):\n",
    "    print(reg)\n",
    "    \n",
    "wdg.interact(plot_gist, reg = wdg.Dropdown(\n",
    "    options=region_dict,\n",
    "    value='Moscow',\n",
    "    description='Субъект РФ:',\n",
    "    disabled=False,\n",
    ")\n",
    ")"
   ]
  },
  {
   "cell_type": "code",
   "execution_count": null,
   "metadata": {},
   "outputs": [],
   "source": []
  }
 ],
 "metadata": {
  "kernelspec": {
   "display_name": "Python 3",
   "language": "python",
   "name": "python3"
  },
  "language_info": {
   "codemirror_mode": {
    "name": "ipython",
    "version": 3
   },
   "file_extension": ".py",
   "mimetype": "text/x-python",
   "name": "python",
   "nbconvert_exporter": "python",
   "pygments_lexer": "ipython3",
   "version": "3.7.3"
  }
 },
 "nbformat": 4,
 "nbformat_minor": 2
}
